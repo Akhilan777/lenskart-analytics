{
  "nbformat": 4,
  "nbformat_minor": 0,
  "metadata": {
    "colab": {
      "provenance": []
    },
    "kernelspec": {
      "name": "python3",
      "display_name": "Python 3"
    },
    "language_info": {
      "name": "python"
    }
  },
  "cells": [
    {
      "cell_type": "code",
      "execution_count": 59,
      "metadata": {
        "colab": {
          "base_uri": "https://localhost:8080/"
        },
        "id": "MSFgfomd6D6J",
        "outputId": "9f4e26de-b133-430f-94f2-bb02362ce666"
      },
      "outputs": [
        {
          "output_type": "stream",
          "name": "stdout",
          "text": [
            "Requirement already satisfied: requests in /usr/local/lib/python3.10/dist-packages (2.31.0)\n",
            "Requirement already satisfied: pandas in /usr/local/lib/python3.10/dist-packages (1.5.3)\n",
            "Requirement already satisfied: charset-normalizer<4,>=2 in /usr/local/lib/python3.10/dist-packages (from requests) (3.3.2)\n",
            "Requirement already satisfied: idna<4,>=2.5 in /usr/local/lib/python3.10/dist-packages (from requests) (3.6)\n",
            "Requirement already satisfied: urllib3<3,>=1.21.1 in /usr/local/lib/python3.10/dist-packages (from requests) (2.0.7)\n",
            "Requirement already satisfied: certifi>=2017.4.17 in /usr/local/lib/python3.10/dist-packages (from requests) (2024.2.2)\n",
            "Requirement already satisfied: python-dateutil>=2.8.1 in /usr/local/lib/python3.10/dist-packages (from pandas) (2.8.2)\n",
            "Requirement already satisfied: pytz>=2020.1 in /usr/local/lib/python3.10/dist-packages (from pandas) (2023.4)\n",
            "Requirement already satisfied: numpy>=1.21.0 in /usr/local/lib/python3.10/dist-packages (from pandas) (1.25.2)\n",
            "Requirement already satisfied: six>=1.5 in /usr/local/lib/python3.10/dist-packages (from python-dateutil>=2.8.1->pandas) (1.16.0)\n"
          ]
        }
      ],
      "source": [
        "%pip install requests pandas"
      ]
    },
    {
      "cell_type": "code",
      "source": [
        "import requests\n",
        "import pandas as pd\n",
        "import re\n",
        "import json\n",
        "\n",
        "session = requests.Session()"
      ],
      "metadata": {
        "id": "dAVoIk5RFLM1"
      },
      "execution_count": 60,
      "outputs": []
    },
    {
      "cell_type": "code",
      "source": [
        "# To scrape top 100 classic eyewear bestsellers data from Lenskart website (tot_num_of_products = 1006)\n",
        "url = 'https://api-gateway.juno.lenskart.com/v2/products/category/8416?page-size=100&page=0'\n",
        "res = session.get(url)\n",
        "data = res.json()\n",
        "data = data[\"result\"][\"product_list\"]\n",
        "df = pd.DataFrame(data)\n",
        "df['prices'] = df['prices'].apply(lambda x: next((price['price'] for price in x if price['name'] == 'Lenskart Price'), None))\n",
        "cleaned_df = df.dropna(axis=1, how='all').drop(['subCollection','subCollectionId','classification','isCashbackApplicable', 'image_url', 'image_url_suffix','brand_logo','is_tbyb','is_ditto','imageUrls', 'brand_name_en', 'suited_for','color_options','isCygnusEnabled','totalColorAvailable','specifications','arModelMsiteAndDesktopUrl','inclusiveText','relatedItems','prescriptionType','cmsLinkAndroid', 'cmsLinkIos','arModelAndroidUrl', 'arModelIOSUrl', 'arModelMsiteAndDesktopUrl','arModelOriginalUrl','frameColorImage'], axis=1).drop_duplicates(subset=['id'], keep='first').fillna('NULL').replace(r'^\\s*$', 'NULL', regex=True)\n",
        "cleaned_df.to_csv('classic_eyewear_bestsellers.csv', index=False)"
      ],
      "metadata": {
        "id": "ZlHHCQmEFMGt"
      },
      "execution_count": 61,
      "outputs": []
    },
    {
      "cell_type": "code",
      "source": [
        "# To scrape top 100 premium eyewear bestsellers data from Lenskart website (tot_num_of_products = 684)\n",
        "url = 'https://api-gateway.juno.lenskart.com/v2/products/category/8080?page-size=100&page=0'\n",
        "res = session.get(url)\n",
        "data = res.json()\n",
        "data = data[\"result\"][\"product_list\"]\n",
        "df = pd.DataFrame(data)\n",
        "df['prices'] = df['prices'].apply(lambda x: next((price['price'] for price in x if price['name'] == 'Lenskart Price'), None))\n",
        "cleaned_df = df.dropna(axis=1, how='all').drop(['subCollection','subCollectionId', 'isCashbackApplicable','image_url', 'image_url_suffix','brand_logo','is_tbyb','is_ditto','imageUrls', 'brand_name_en', 'suited_for','color_options','isCygnusEnabled','totalColorAvailable','specifications','arModelMsiteAndDesktopUrl','inclusiveText','relatedItems','prescriptionType','cmsLinkAndroid', 'cmsLinkIos','arModelAndroidUrl', 'arModelIOSUrl', 'arModelMsiteAndDesktopUrl','arModelOriginalUrl','frameColorImage'], axis=1).drop_duplicates(subset=['id'], keep='first').fillna('NULL').replace(r'^\\s*$', 'NULL', regex=True)\n",
        "cleaned_df.to_csv('premium_eyewear_bestsellers.csv', index=False)"
      ],
      "metadata": {
        "id": "upCiECXNacYe"
      },
      "execution_count": 62,
      "outputs": []
    },
    {
      "cell_type": "code",
      "source": [
        "# To scrape all kids eyewear bestsellers data from Lenskart website (tot_num_of_products = 26)\n",
        "url = 'https://api-gateway.juno.lenskart.com/v2/products/category/11261?page-size=100&page=0'\n",
        "res = session.get(url)\n",
        "data = res.json()\n",
        "data = data[\"result\"][\"product_list\"]\n",
        "df = pd.DataFrame(data)\n",
        "df['prices'] = df['prices'].apply(lambda x: next((price['price'] for price in x if price['name'] == 'Lenskart Price'), None))\n",
        "cleaned_df = df.dropna(axis=1, how='all').drop(['subCollection','subCollectionId','isCashbackApplicable','image_url', 'image_url_suffix','brand_logo','is_tbyb','is_ditto','imageUrls', 'brand_name_en', 'suited_for','color_options','isCygnusEnabled','totalColorAvailable','specifications','arModelMsiteAndDesktopUrl','relatedItems','prescriptionType','cmsLinkAndroid', 'cmsLinkIos','arModelAndroidUrl', 'arModelIOSUrl', 'arModelMsiteAndDesktopUrl','arModelOriginalUrl','frameColorImage'], axis=1).drop_duplicates(subset=['id'], keep='first').fillna('NULL').replace(r'^\\s*$', 'NULL', regex=True)\n",
        "cleaned_df.to_csv('kids_eyewear_bestsellers.csv', index=False)"
      ],
      "metadata": {
        "id": "zd2KAP24af0N"
      },
      "execution_count": 63,
      "outputs": []
    },
    {
      "cell_type": "code",
      "source": [
        "# To scrape trending classic eyewear  data from Lenskart website (tot_num_of_products = 4)\n",
        "url = 'https://api-gateway.juno.lenskart.com/v2/products/category/7829?page-size=100&page=0'\n",
        "res = session.get(url)\n",
        "data = res.json()\n",
        "data = data[\"result\"][\"product_list\"]\n",
        "df = pd.DataFrame(data)\n",
        "df['prices'] = df['prices'].apply(lambda x: next((price['price'] for price in x if price['name'] == 'Lenskart Price'), None))\n",
        "cleaned_df = df.dropna(axis=1, how='all').drop(['subCollection','subCollectionId','isCashbackApplicable','image_url', 'image_url_suffix','brand_logo','is_tbyb','is_ditto','imageUrls', 'brand_name_en','color_options','isCygnusEnabled','totalColorAvailable','specifications','arModelMsiteAndDesktopUrl','relatedItems','prescriptionType','cmsLinkAndroid', 'cmsLinkIos','arModelAndroidUrl', 'arModelIOSUrl', 'arModelMsiteAndDesktopUrl','arModelOriginalUrl','frameColorImage'], axis=1).drop_duplicates(subset=['id'], keep='first').fillna('NULL').replace(r'^\\s*$', 'NULL', regex=True)\n",
        "cleaned_df.to_csv('classic_eyewear_trending.csv', index=False)"
      ],
      "metadata": {
        "id": "YmattAR5ajP1"
      },
      "execution_count": 64,
      "outputs": []
    },
    {
      "cell_type": "code",
      "source": [
        "# To scrape top 100 classic sunglasses bestsellers data from Lenskart website (tot_num_of_products = 647)\n",
        "url = 'https://api-gateway.juno.lenskart.com/v2/products/category/3909?page-size=100&page=0'\n",
        "res = session.get(url)\n",
        "data = res.json()\n",
        "data = data[\"result\"][\"product_list\"]\n",
        "df = pd.DataFrame(data)\n",
        "df['prices'] = df['prices'].apply(lambda x: next((price['price'] for price in x if price['name'] == 'Lenskart Price'), None))\n",
        "cleaned_df = df.dropna(axis=1, how='all').drop(['subCollection','subCollectionId','isCashbackApplicable','image_url', 'image_url_suffix','brand_logo','is_tbyb','is_ditto','imageUrls', 'brand_name_en', 'suited_for','color_options','isCygnusEnabled','totalColorAvailable','specifications','arModelMsiteAndDesktopUrl','relatedItems','prescriptionType','cmsLinkAndroid', 'cmsLinkIos','arModelAndroidUrl', 'arModelIOSUrl', 'arModelMsiteAndDesktopUrl','arModelOriginalUrl','frameColorImage'], axis=1).drop_duplicates(subset=['id'], keep='first').fillna('NULL').replace(r'^\\s*$', 'NULL', regex=True)\n",
        "cleaned_df.to_csv('classic_sunglasses_bestsellers.csv', index=False)"
      ],
      "metadata": {
        "id": "KqCpgAh1alvm"
      },
      "execution_count": 65,
      "outputs": []
    },
    {
      "cell_type": "code",
      "source": [
        "# To scrape top 100 premium sunglasses bestsellers data from Lenskart website (tot_num_of_products = 249)\n",
        "url = 'https://api-gateway.juno.lenskart.com/v2/products/category/19644?page-size=100&page=0'\n",
        "res = session.get(url)\n",
        "data = res.json()\n",
        "data = data[\"result\"][\"product_list\"]\n",
        "df = pd.DataFrame(data)\n",
        "df['prices'] = df['prices'].apply(lambda x: next((price['price'] for price in x if price['name'] == 'Lenskart Price'), None))\n",
        "cleaned_df = df.dropna(axis=1, how='all').drop(['subCollection','subCollectionId','isCashbackApplicable','image_url', 'image_url_suffix','brand_logo','is_tbyb','is_ditto','imageUrls', 'brand_name_en', 'suited_for','color_options','isCygnusEnabled','totalColorAvailable','specifications','arModelMsiteAndDesktopUrl','relatedItems','prescriptionType','cmsLinkAndroid', 'cmsLinkIos','arModelAndroidUrl', 'arModelIOSUrl', 'arModelMsiteAndDesktopUrl','arModelOriginalUrl','frameColorImage'], axis=1).drop_duplicates(subset=['id'], keep='first').fillna('NULL').replace(r'^\\s*$', 'NULL', regex=True)\n",
        "cleaned_df.to_csv('premium_sunglasses_bestsellers.csv', index=False)"
      ],
      "metadata": {
        "id": "qPBDVaUBaqbt"
      },
      "execution_count": 66,
      "outputs": []
    },
    {
      "cell_type": "code",
      "source": [
        "#To scrape the product data from product page\n",
        "def get_product_details(url:str):\n",
        "    session = requests.Session()\n",
        "    try:\n",
        "        res = session.get(url)\n",
        "        source_page_content = res.text\n",
        "        start_pattern = '\"productDetailData\":'\n",
        "        end_pattern = '\"cmsData\":{'\n",
        "        start_index = source_page_content.find(start_pattern)\n",
        "        end_index = source_page_content.find(end_pattern,  start_index)\n",
        "        if start_index != -1 and end_index != -1:\n",
        "            json_data_str = source_page_content[start_index + len(start_pattern):end_index].rstrip(',')\n",
        "            product_detail_data = json.loads(json_data_str)\n",
        "            return product_detail_data\n",
        "    except Exception as e:\n",
        "        print(\"Error getting product data\", e)\n",
        "        return None"
      ],
      "metadata": {
        "id": "HyDBSrUtasTF"
      },
      "execution_count": 67,
      "outputs": []
    },
    {
      "cell_type": "code",
      "source": [
        "# To scrape the product data from product page\n",
        "\n",
        "# Load the CSV data into a DataFrame\n",
        "df = pd.read_csv('classic_eyewear_bestsellers.csv')\n",
        "\n",
        "# Iterate over the rows of the DataFrame\n",
        "for index, row in df.iterrows():\n",
        "    # Get the product URL\n",
        "    url = row['product_url']\n",
        "    assert isinstance(url, str), f\"Expected a string but got {type(url)}\"\n",
        "\n",
        "    # Get the product details as a JSON dictionary\n",
        "    product_details = get_product_details(url)\n",
        "\n",
        "    # If product_details is not None, add the new data to the DataFrame\n",
        "    if product_details is not None:\n",
        "        for key, value in product_details.items():\n",
        "            # Format the column name\n",
        "            column_name = key.lower().replace(' ', '_')\n",
        "            if isinstance(value, (list, dict, pd.Series, pd.DataFrame)):\n",
        "                value = str(value)\n",
        "            # Add the new data to the DataFrame\n",
        "            if column_name not in df.columns:\n",
        "                df[column_name] = None\n",
        "            df.loc[index, column_name] = value\n",
        "# Save the updated DataFrame to a new CSV file .drop(['powertypes','crosssells','addtocartbuttons'],axis=1)\n",
        "cleaned_df = df.dropna(axis=1, how='all').drop_duplicates(subset=['id'], keep='first').fillna('NULL').replace(r'^\\s*$', 'NULL', regex=True)\n",
        "cleaned_df.to_csv('classic_eyewear_bestsellers_updated.csv', index=False)\n",
        "cleaned_df.shape()"
      ],
      "metadata": {
        "id": "Hf4DFwwXatBN"
      },
      "execution_count": null,
      "outputs": []
    },
    {
      "cell_type": "code",
      "source": [
        "df.columns"
      ],
      "metadata": {
        "colab": {
          "base_uri": "https://localhost:8080/"
        },
        "id": "dHnukyBXdYDk",
        "outputId": "d1c4d5c0-b5a8-486d-b115-6e55c7799720"
      },
      "execution_count": 15,
      "outputs": [
        {
          "output_type": "execute_result",
          "data": {
            "text/plain": [
              "Index(['id', 'image_url', 'image_url_suffix', 'product_url', 'color',\n",
              "       'occasion', 'size', 'width', 'brand_name', 'brand_name_en',\n",
              "       'brand_logo', 'model_name', 'prices', 'is_tbyb', 'tags', 'is_ditto',\n",
              "       'classification', 'wishlistCount', 'purchaseCount', 'avgRating',\n",
              "       'hashtagList', 'offerName', 'cmsLinkAndroid', 'cmsLinkIos',\n",
              "       'arModelAndroidUrl', 'arModelIOSUrl', 'arModelOriginalUrl', 'qty',\n",
              "       'frameColorImage', 'subCollection', 'subCollectionId',\n",
              "       'isCygnusEnabled', 'isCashbackApplicable', 'searchProductName',\n",
              "       'totalNoOfRatings'],\n",
              "      dtype='object')"
            ]
          },
          "metadata": {},
          "execution_count": 15
        }
      ]
    }
  ]
}