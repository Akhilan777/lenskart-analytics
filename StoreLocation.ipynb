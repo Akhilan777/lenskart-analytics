{
  "nbformat": 4,
  "nbformat_minor": 0,
  "metadata": {
    "colab": {
      "provenance": []
    },
    "kernelspec": {
      "name": "python3",
      "display_name": "Python 3"
    },
    "language_info": {
      "name": "python"
    }
  },
  "cells": [
    {
      "cell_type": "code",
      "execution_count": null,
      "metadata": {
        "id": "7dXIGeeToC2p"
      },
      "outputs": [],
      "source": [
        "#Importing the required headers\n",
        "import requests\n",
        "import json\n",
        "import pandas as pd\n",
        "import re\n",
        "import csv\n",
        "#Creating the session\n",
        "session = requests.session()\n"
      ]
    },
    {
      "cell_type": "code",
      "source": [
        "#Moving to store location page\n",
        "main = session.get(\"https://www.lenskart.com/stores\")\n",
        "with open(\"demo.html\",'w',encoding='utf-8') as f:\n",
        "  f.write(main.text)"
      ],
      "metadata": {
        "id": "8G2N_0TPoG07"
      },
      "execution_count": null,
      "outputs": []
    },
    {
      "cell_type": "code",
      "source": [
        "#Using regex to find all the state names\n",
        "pattern= re.compile(r'slug\\\"\\:\\\"([^\"\\d]+)\\\"')\n",
        "matches = pattern.findall(main.text)"
      ],
      "metadata": {
        "id": "uFYeefKWoJOy"
      },
      "execution_count": null,
      "outputs": []
    },
    {
      "cell_type": "code",
      "source": [
        "#Iterating thorough the states and storing in the list\n",
        "store_location = []\n",
        "for match in matches:\n",
        "    store_location.append(match)\n",
        "print(store_location)"
      ],
      "metadata": {
        "colab": {
          "base_uri": "https://localhost:8080/"
        },
        "id": "Zaf8GD2toLpu",
        "outputId": "fd3b7f36-e18c-4673-e86d-9e4da308eb0b"
      },
      "execution_count": null,
      "outputs": [
        {
          "output_type": "stream",
          "name": "stdout",
          "text": [
            "['andhra-pradesh', 'andmaan-nicobar', 'arunachal-pradesh', 'assam', 'bihar', 'chandigarh', 'chennai', 'chhattisgarh', 'dadra-and-nagar-haveli', 'delhi', 'goa', 'gujarat', 'gwalior', 'haryana', 'himachal-pradesh', 'hyderabad', 'jammu-and-kashmir', 'jharkhand', 'karnataka', 'kerala', 'madhya-pradesh', 'maharashtra', 'manipur', 'nagaland', 'new-delhi', 'odisha', 'puducherry', 'punjab', 'rajasthan', 'sikkim', 'tamil-nadu', 'tamil\\xa0nadu', 'telangana', 'tripura', 'uttar-pradesh', 'uttarakhand', 'utter-pradesh', 'uttrakhand', 'west-bengal']\n"
          ]
        }
      ]
    },
    {
      "cell_type": "code",
      "source": [
        "#Getting the details of each state's store\n",
        "header = {\n",
        "    \"User-Agent\": \"Mozilla/5.0 (Windows NT 10.0; Win64; x64) AppleWebKit/537.36 (KHTML, like Gecko) Chrome/122.0.0.0 Safari/537.36\",\n",
        "    \"Xstoreaccesskey\": \"pNRq8BGvIHk/G9AwlBxKG5lz97eYDaxnWO0YYs+VrMY=\"\n",
        "}\n",
        "\n",
        "payload = {\n",
        "    \"keyword\": None,\n",
        "    \"range\": 10,\n",
        "    \"perPage\": 9999\n",
        "}\n"
      ],
      "metadata": {
        "id": "aL79T9PtoOJH"
      },
      "execution_count": null,
      "outputs": []
    },
    {
      "cell_type": "code",
      "source": [
        "#Creating a separate json file for each state\n",
        "for item in store_location:\n",
        "  payload[\"keyword\"] = item\n",
        "  res = session.post(r'https://locator-stores.lenskart.com/api/v3/store/list', headers=header, data=payload)\n",
        "  filename = item + '.json'\n",
        "  with open(filename, 'w') as json_file:\n",
        "        json.dump(res.json(), json_file)"
      ],
      "metadata": {
        "id": "pdp7RoUOoS1E"
      },
      "execution_count": null,
      "outputs": []
    },
    {
      "cell_type": "code",
      "source": [
        "fieldnames = ['id', 'name','status', 'address', 'city','state','phone', 'email',\n",
        "              'openinghr', 'closinghr', 'Rating', 'Reviews']\n",
        "\n",
        "# Initialize an empty list to store data rows\n",
        "data_rows = []\n",
        "\n",
        "# Iterate over each store location\n",
        "for item in store_location:\n",
        "    with open(f'{item}.json', 'r') as fr:\n",
        "        # Read JSON data\n",
        "        json_data = json.load(fr)\n",
        "        print(json_data)\n",
        "\n",
        "        # Extract relevant data from JSON\n",
        "        for store in json_data['data']['data']:\n",
        "            store_data = {\n",
        "                'id': store['id'],\n",
        "                'name': store['alt_store_name_catch'],\n",
        "                'status':store['status'],\n",
        "                'address': store['address_full'],\n",
        "                'city':store['address_city'],\n",
        "                'state': store['address_state'],\n",
        "                'phone': store['store_phone'],\n",
        "                'email': store['store_email'],\n",
        "                'openinghr': store['business_hours_openi'],\n",
        "                'closinghr': store['business_hours_closi'],\n",
        "                'Rating': store['ratingAndReviewCount']['averageRating'],\n",
        "                'Reviews': store['ratingAndReviewCount']['totalReviews']\n",
        "            }\n",
        "            # Append store data to the list\n",
        "            data_rows.append(store_data)"
      ],
      "metadata": {
        "colab": {
          "base_uri": "https://localhost:8080/"
        },
        "id": "z_toU1ROoimb",
        "outputId": "7f5e8489-9953-42bb-c4d6-cf3fd20ea6d0"
      },
      "execution_count": null,
      "outputs": [
        {
          "output_type": "stream",
          "name": "stderr",
          "text": [
            "IOPub data rate exceeded.\n",
            "The notebook server will temporarily stop sending output\n",
            "to the client in order to avoid crashing it.\n",
            "To change this limit, set the config variable\n",
            "`--NotebookApp.iopub_data_rate_limit`.\n",
            "\n",
            "Current values:\n",
            "NotebookApp.iopub_data_rate_limit=1000000.0 (bytes/sec)\n",
            "NotebookApp.rate_limit_window=3.0 (secs)\n",
            "\n"
          ]
        }
      ]
    },
    {
      "cell_type": "code",
      "source": [
        "#creating a csv file and loading data to it\n",
        "with open('store.csv', 'w', newline='') as csvfile:\n",
        "    writer = csv.DictWriter(csvfile, fieldnames=fieldnames)\n",
        "\n",
        "    # Write header\n",
        "    writer.writeheader()\n",
        "\n",
        "    # Write data rows\n",
        "    for row in data_rows:\n",
        "        writer.writerow(row)\n",
        "\n",
        "print(\"CSV file created successfully.\")"
      ],
      "metadata": {
        "colab": {
          "base_uri": "https://localhost:8080/"
        },
        "id": "Y8dsVowLpKdH",
        "outputId": "dfa2cab0-0acc-4e51-ac77-507e214347bd"
      },
      "execution_count": null,
      "outputs": [
        {
          "output_type": "stream",
          "name": "stdout",
          "text": [
            "CSV file created successfully.\n"
          ]
        }
      ]
    }
  ]
}