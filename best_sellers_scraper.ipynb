{
 "cells": [
  {
   "cell_type": "code",
   "execution_count": null,
   "metadata": {},
   "outputs": [],
   "source": [
    "%pip install requests pandas"
   ]
  },
  {
   "cell_type": "code",
   "execution_count": null,
   "metadata": {},
   "outputs": [],
   "source": [
    "import requests\n",
    "import pandas as pd\n",
    "# import re\n",
    "# import json\n",
    "import ast\n",
    "\n",
    "session = requests.Session()"
   ]
  },
  {
   "cell_type": "code",
   "execution_count": null,
   "metadata": {},
   "outputs": [],
   "source": [
    "# To scrape top 100 classic eyewear bestsellers data from Lenskart website (tot_num_of_products = 1006)\n",
    "url = 'https://api-gateway.juno.lenskart.com/v2/products/category/8416?page-size=100&page=0'\n",
    "res = session.get(url)\n",
    "data = res.json()\n",
    "data = data[\"result\"][\"product_list\"]\n",
    "df = pd.DataFrame(data)\n",
    "cleaned_df = df.dropna(axis=1, how='all').drop(['imageUrls', 'suited_for','color_options','totalColorAvailable','specifications','arModelMsiteAndDesktopUrl','inclusiveText','relatedItems','prescriptionType'], axis=1).drop_duplicates(subset=['id'], keep='first').fillna('NULL').replace(r'^\\s*$', 'NULL', regex=True)\n",
    "cleaned_df.to_csv('classic_eyewear_bestsellers.csv', index=False)"
   ]
  },
  {
   "cell_type": "code",
   "execution_count": null,
   "metadata": {},
   "outputs": [],
   "source": [
    "# To scrape top 100 premium eyewear bestsellers data from Lenskart website (tot_num_of_products = 684)\n",
    "url = 'https://api-gateway.juno.lenskart.com/v2/products/category/8080?page-size=100&page=0'\n",
    "res = session.get(url)\n",
    "data = res.json()\n",
    "data = data[\"result\"][\"product_list\"]\n",
    "df = pd.DataFrame(data)\n",
    "cleaned_df = df.dropna(axis=1, how='all').drop(['imageUrls', 'suited_for','color_options','totalColorAvailable','specifications','arModelMsiteAndDesktopUrl','inclusiveText','relatedItems','prescriptionType'], axis=1).drop_duplicates(subset=['id'], keep='first').fillna('NULL').replace(r'^\\s*$', 'NULL', regex=True)\n",
    "cleaned_df.to_csv('premium_eyewear_bestsellers.csv', index=False)"
   ]
  },
  {
   "cell_type": "code",
   "execution_count": null,
   "metadata": {},
   "outputs": [],
   "source": [
    "# To scrape all kids eyewear bestsellers data from Lenskart website (tot_num_of_products = 26)\n",
    "url = 'https://api-gateway.juno.lenskart.com/v2/products/category/11261?page-size=100&page=0'\n",
    "res = session.get(url)\n",
    "data = res.json()\n",
    "data = data[\"result\"][\"product_list\"]\n",
    "df = pd.DataFrame(data)\n",
    "cleaned_df = df.dropna(axis=1, how='all').drop(['imageUrls', 'color_options','totalColorAvailable','specifications','arModelMsiteAndDesktopUrl','brand_logo','relatedItems','prescriptionType'], axis=1).drop_duplicates(subset=['id'], keep='first').fillna('NULL').replace(r'^\\s*$', 'NULL', regex=True)\n",
    "cleaned_df.to_csv('kids_eyewear_bestsellers.csv', index=False)"
   ]
  },
  {
   "cell_type": "code",
   "execution_count": null,
   "metadata": {},
   "outputs": [],
   "source": [
    "# To scrape trending classic eyewear  data from Lenskart website (tot_num_of_products = 4)\n",
    "url = 'https://api-gateway.juno.lenskart.com/v2/products/category/7829?page-size=100&page=0'\n",
    "res = session.get(url)\n",
    "data = res.json()\n",
    "data = data[\"result\"][\"product_list\"]\n",
    "df = pd.DataFrame(data)\n",
    "cleaned_df = df.dropna(axis=1, how='all').drop(['imageUrls','color_options','totalColorAvailable','specifications','arModelMsiteAndDesktopUrl','relatedItems','prescriptionType'], axis=1).drop_duplicates(subset=['id'], keep='first').fillna('NULL').replace(r'^\\s*$', 'NULL', regex=True)\n",
    "cleaned_df.to_csv('classic_eyewear_trending.csv', index=False)"
   ]
  },
  {
   "cell_type": "code",
   "execution_count": null,
   "metadata": {},
   "outputs": [],
   "source": [
    "# To scrape top 100 classic sunglasses bestsellers data from Lenskart website (tot_num_of_products = 647)\n",
    "url = 'https://api-gateway.juno.lenskart.com/v2/products/category/3909?page-size=100&page=0'\n",
    "res = session.get(url)\n",
    "data = res.json()\n",
    "data = data[\"result\"][\"product_list\"]\n",
    "df = pd.DataFrame(data)\n",
    "cleaned_df = df.dropna(axis=1, how='all').drop(['imageUrls', 'suited_for','color_options','totalColorAvailable','specifications','arModelMsiteAndDesktopUrl','inclusiveText','relatedItems','prescriptionType','brand_logo'], axis=1).drop_duplicates(subset=['id'], keep='first').fillna('NULL').replace(r'^\\s*$', 'NULL', regex=True)\n",
    "cleaned_df.to_csv('classic_sunglasses_bestsellers.csv', index=False)"
   ]
  },
  {
   "cell_type": "code",
   "execution_count": null,
   "metadata": {},
   "outputs": [],
   "source": [
    "# To scrape top 100 premium sunglasses bestsellers data from Lenskart website (tot_num_of_products = 249)\n",
    "url = 'https://api-gateway.juno.lenskart.com/v2/products/category/19644?page-size=100&page=0'\n",
    "res = session.get(url)\n",
    "data = res.json()\n",
    "data = data[\"result\"][\"product_list\"]\n",
    "df = pd.DataFrame(data)\n",
    "cleaned_df = df.dropna(axis=1, how='all').drop(['imageUrls', 'suited_for','color_options','totalColorAvailable','specifications','arModelMsiteAndDesktopUrl','inclusiveText','relatedItems','prescriptionType','brand_logo'], axis=1).drop_duplicates(subset=['id'], keep='first').fillna('NULL').replace(r'^\\s*$', 'NULL', regex=True)\n",
    "cleaned_df.to_csv('premium_sunglasses_bestsellers.csv', index=False)"
   ]
  },
  {
   "cell_type": "code",
   "execution_count": null,
   "metadata": {},
   "outputs": [],
   "source": [
    "#To scrape the product data from product page\n",
    "def get_product_details(url:str):\n",
    "    session = requests.Session()\n",
    "    try:\n",
    "        res = session.get(url)\n",
    "        source_page_content = res.text\n",
    "        start_pattern = '\"productDetailData\":'\n",
    "        end_pattern = '\"cmsData\":{'\n",
    "        start_index = source_page_content.find(start_pattern)\n",
    "        end_index = source_page_content.find(end_pattern,  start_index)\n",
    "        if start_index != -1 and end_index != -1:\n",
    "            json_data_str = source_page_content[start_index + len(start_pattern):end_index].rstrip(',')\n",
    "            product_detail_data = json.loads(json_data_str)\n",
    "            return product_detail_data\n",
    "    except Exception as e:\n",
    "        print(\"Error getting product data\", e)\n",
    "        return None\n",
    "\n",
    "#To replace prices with Lenskart Price\n",
    "def get_lenskart_price(prices_str):\n",
    "    try:\n",
    "        prices = ast.literal_eval(prices_str)\n",
    "        for price_info in prices:\n",
    "            if price_info['name'] == 'Lenskart Price':\n",
    "                return price_info['price']\n",
    "    except (ValueError, SyntaxError):\n",
    "        return None"
   ]
  },
  {
   "cell_type": "code",
   "execution_count": null,
   "metadata": {},
   "outputs": [],
   "source": [
    "# To scrape the product data from product page\n",
    "\n",
    "# Load the CSV data into a DataFrame\n",
    "df = pd.read_csv('Contact_Lenses_Cleaned.csv')\n",
    "\n",
    "# Iterate over the rows of the DataFrame\n",
    "for index, row in df.iterrows():\n",
    "    # Get the product URL\n",
    "    url = row['product_url']\n",
    "    assert isinstance(url, str), f\"Expected a string but got {type(url)}\"\n",
    "\n",
    "    # Get the product details as a JSON dictionary\n",
    "    product_details = get_product_details(url)\n",
    "\n",
    "    # If product_details is not None, add the new data to the DataFrame\n",
    "    if product_details is not None:\n",
    "        for key, value in product_details.items():\n",
    "            # Format the column name\n",
    "            column_name = key.lower().replace(' ', '_')\n",
    "            if isinstance(value, (list, dict, pd.Series, pd.DataFrame)):\n",
    "                value = str(value)\n",
    "            # Add the new data to the DataFrame\n",
    "            if column_name not in df.columns:\n",
    "                df[column_name] = None\n",
    "            df.loc[index, column_name] = value\n",
    "\n",
    "# Save the updated DataFrame to a new CSV file\n",
    "columns_to_drop = ['offerdetails', 'hashtagList', 'framedetails', 'additionaloptions', 'prescriptiontype', 'coloroptions', 'seo', 'generalproductinfo', 'technicalproductinfo', 'reviews', 'specifications', 'offerdetails' 'is_tbyb', 'image_url_suffix', 'brand_name_en', 'brandname', 'productmodelname', 'brand_logo', 'is_ditto', 'cmsLinkAndroid', 'cmsLinkIos', 'arModelAndroidUrl', 'arModelIOSUrl', 'arModelOriginalUrl', 'frameColorImage', 'isCygnusEnabled', 'sku', 'isquickcheckout', 'cmslinkandroid', 'relateditems',\n",
    "                   'showproductrating', 'showpurchasecount', 'showwishlistcount', 'iscoloroptionextra', 'thumbnail', 'frontimage', 'coloroptionextracount', 'isditto', 'producturl', 'producturlwithoutdomain', 'gridimages', 'breadcrumb', 'cllegalreqdetails', 'jit', 'isplano', 'richcontent', 'istryonenabled', 'addtocartbuttons', 'imageurldetail', 'mobileimageurl', 'price', 'purchasecount', 'wishlistcount', 'productrating', 'totalnoofratings', 'subcategories', 'searchProductName', 'fullname', 'isCashbackApplicable', 'crosssells', 'powertypes']\n",
    "# Only keep columns in the list that are in the DataFrame\n",
    "columns_to_drop = [col for col in columns_to_drop if col in df.columns]\n",
    "\n",
    "cleaned_df = df.dropna(axis=1, how='all').drop(columns_to_drop, axis=1).drop_duplicates(\n",
    "    subset=['id'], keep='first').fillna('NULL').replace(r'^\\s*$', 'NULL', regex=True)\n",
    "cleaned_df['prices'] = cleaned_df['prices'].apply(get_lenskart_price)\n",
    "\n",
    "cleaned_df.to_csv('Contact_Lenses_Updated.csv', index=False)"
   ]
  }
 ],
 "metadata": {
  "kernelspec": {
   "display_name": "Python 3",
   "language": "python",
   "name": "python3"
  },
  "language_info": {
   "codemirror_mode": {
    "name": "ipython",
    "version": 3
   },
   "file_extension": ".py",
   "mimetype": "text/x-python",
   "name": "python",
   "nbconvert_exporter": "python",
   "pygments_lexer": "ipython3",
   "version": "3.12.1"
  }
 },
 "nbformat": 4,
 "nbformat_minor": 2
}
