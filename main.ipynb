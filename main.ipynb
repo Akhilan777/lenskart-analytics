{
 "cells": [
  {
   "cell_type": "code",
   "execution_count": 1,
   "metadata": {},
   "outputs": [],
   "source": [
    "import logging\n",
    "import requests\n",
    "import pandas\n",
    "import json"
   ]
  },
  {
   "cell_type": "code",
   "execution_count": 2,
   "metadata": {},
   "outputs": [],
   "source": [
    "logging.basicConfig(filename='logFile.log', encoding='utf-8', format='%(asctime)s - %(message)s', level=logging.INFO)\n",
    "logging.info('Started')"
   ]
  },
  {
   "cell_type": "code",
   "execution_count": 3,
   "metadata": {},
   "outputs": [],
   "source": [
    "session = requests.Session()"
   ]
  },
  {
   "cell_type": "code",
   "execution_count": 4,
   "metadata": {},
   "outputs": [],
   "source": [
    "mens_classic_eyeglasses_bestsellers_api = 'https://api-gateway.juno.lenskart.com/v2/products/category/8416?page-size=1000&page=0'\n",
    "mens_premium_eyeglasses_bestseller_api = 'https://api-gateway.juno.lenskart.com/v2/products/category/8080?page-size=684&page=0'\n",
    "\n",
    "mens_classic_eyeglasses_bestsellers_file_path = './pages/product_list_pages/mens_classic_eyeglasses_bestsellers.json'\n",
    "mens_premium_eyeglasses_bestsellers_file_path = './pages/product_list_pages/mens_premium_eyeglasses_bestsellers.json'"
   ]
  },
  {
   "cell_type": "code",
   "execution_count": 5,
   "metadata": {},
   "outputs": [],
   "source": [
    "res = session.get(mens_classic_eyeglasses_bestsellers_api)\n",
    "logging.info(f\"Get request to page {mens_classic_eyeglasses_bestsellers_api} returned status code of {res.status_code}\")"
   ]
  },
  {
   "cell_type": "code",
   "execution_count": 6,
   "metadata": {},
   "outputs": [],
   "source": [
    "# write to file\n",
    "with open(mens_classic_eyeglasses_bestsellers_file_path, 'wb') as file:\n",
    "    file.write(res.content)\n",
    "\n",
    "logging.info(f\"Response from page {mens_classic_eyeglasses_bestsellers_api} written to {mens_classic_eyeglasses_bestsellers_file_path}\")"
   ]
  },
  {
   "cell_type": "code",
   "execution_count": 7,
   "metadata": {},
   "outputs": [],
   "source": [
    "def add_response_to_list(res, df_list):\n",
    "\n",
    "    res_json = json.loads(res.text)\n",
    "    products_list = res_json[\"result\"][\"product_list\"]\n",
    "    \n",
    "\n",
    "    for product in products_list:\n",
    "        product_dict = product\n",
    "\n",
    "        # flatten prices\n",
    "        for price_details in product[\"prices\"]:\n",
    "            product_dict[price_details[\"name\"]] = price_details[\"price\"]\n",
    "\n",
    "        # flatten hashtags\n",
    "        for hashtag_details in product[\"hashtagList\"]:\n",
    "            product_dict[hashtag_details[\"property\"]] = price_details[\"name\"]\n",
    "\n",
    "        df_list.append(product_dict)\n"
   ]
  },
  {
   "cell_type": "code",
   "execution_count": 11,
   "metadata": {},
   "outputs": [],
   "source": [
    "df_list = []\n",
    "\n",
    "# classic bestseller\n",
    "add_response_to_list(res, df_list)\n",
    "\n",
    "df = pandas.DataFrame(df_list)\n",
    "\n",
    "mens_classic_eyeglasses_bestsellers_csv_file_path = './csvs/mens_classic_eyeglasses_bestsellers_csv.csv'\n",
    "df.to_csv(mens_classic_eyeglasses_bestsellers_csv_file_path)\n",
    "logging.info(f\"Product details from page {mens_classic_eyeglasses_bestsellers_api} converted to data frame and csv - {mens_classic_eyeglasses_bestsellers_csv_file_path}\")"
   ]
  },
  {
   "cell_type": "code",
   "execution_count": 12,
   "metadata": {},
   "outputs": [],
   "source": [
    "# premium bestseller\n",
    "res = session.get(mens_premium_eyeglasses_bestseller_api)\n",
    "logging.info(f\"Get request to page {mens_premium_eyeglasses_bestseller_api} returned status code of {res.status_code}\")"
   ]
  },
  {
   "cell_type": "code",
   "execution_count": 13,
   "metadata": {},
   "outputs": [],
   "source": [
    "# write to file\n",
    "with open(mens_premium_eyeglasses_bestsellers_file_path, 'wb') as file:\n",
    "    file.write(res.content)\n",
    "\n",
    "logging.info(f\"Response from page {mens_premium_eyeglasses_bestseller_api} written to {mens_premium_eyeglasses_bestsellers_file_path}\")"
   ]
  },
  {
   "cell_type": "code",
   "execution_count": 14,
   "metadata": {},
   "outputs": [],
   "source": [
    "df_list = []\n",
    "\n",
    "# premium bestseller\n",
    "add_response_to_list(res, df_list)\n",
    "\n",
    "df = pandas.DataFrame(df_list)\n",
    "\n",
    "mens_premium_eyeglasses_bestsellers_csv_file_path = './csvs/mens_premium_eyeglasses_bestsellers_csv.csv'\n",
    "df.to_csv(mens_premium_eyeglasses_bestsellers_csv_file_path)\n",
    "logging.info(f\"Product details from page {mens_premium_eyeglasses_bestseller_api} converted to data frame and csv - {mens_premium_eyeglasses_bestsellers_csv_file_path}\")"
   ]
  },
  {
   "cell_type": "code",
   "execution_count": 33,
   "metadata": {},
   "outputs": [],
   "source": [
    "\n",
    "\n",
    "df = pandas.DataFrame(df_list)\n",
    "\n",
    "mens_classic_eyeglasses_bestsellers_csv_file_path = 'mens_classic_eyeglasses_bestsellers_csv.csv'\n",
    "df.to_csv(mens_classic_eyeglasses_bestsellers_csv_file_path)\n",
    "logging.info(f\"Product details from page {mens_classic_eyeglasses_bestsellers_api} converted to data frame and csv - {mens_classic_eyeglasses_bestsellers_csv_file_path}\")"
   ]
  }
 ],
 "metadata": {
  "kernelspec": {
   "display_name": "Python 3",
   "language": "python",
   "name": "python3"
  },
  "language_info": {
   "codemirror_mode": {
    "name": "ipython",
    "version": 3
   },
   "file_extension": ".py",
   "mimetype": "text/x-python",
   "name": "python",
   "nbconvert_exporter": "python",
   "pygments_lexer": "ipython3",
   "version": "3.9.13"
  }
 },
 "nbformat": 4,
 "nbformat_minor": 2
}
